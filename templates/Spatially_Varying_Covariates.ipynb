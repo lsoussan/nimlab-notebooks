{
 "cells": [
  {
   "cell_type": "markdown",
   "metadata": {},
   "source": [
    "# BSGLMM Notebook\n",
    "\n",
    "### Louis Soussand - Version 1.0 12/21/2017\n",
    "Changelog:\n",
    "\n",
    "1.0 Initial Release\n",
    "\n",
    "\n",
    "### Steps to follow prior to the notebook:  \n",
    "1) Go to [phenotypic datasets](http://nimlab-local-1:3838/apps/phenodat/), download your patients' data file   \n",
    "2) Upload file to [dash_data](http://nimlab-local-1:3838/apps/dash_data/), create a control vs case, download file  \n",
    "3) Upload lesions and filtered datasets to working directory from [xnat_gate](http://nimlab-local-1:3838/apps/xnat_gate/).  \n",
    "\n",
    "### Steps within the notebook:  \n",
    "1) Load lesion and phenotypic datasets  \n",
    "2) Set up lesions folder for BSGLMM  \n",
    "3) Create input file for BSGLMM  \n",
    "4) Call BSGLMM using the call_bsglmm function from nimlab.software  \n",
    "5) Look at the probability of type 1 and 2 given the data.  "
   ]
  },
  {
   "cell_type": "code",
   "execution_count": 1,
   "metadata": {
    "code_folding": []
   },
   "outputs": [
    {
     "name": "stderr",
     "output_type": "stream",
     "text": [
      "/data2/jupyter/notebooks/modules/envs/nimlab-python2-kernel/local/lib/python2.7/site-packages/h5py/__init__.py:36: FutureWarning: Conversion of the second argument of issubdtype from `float` to `np.floating` is deprecated. In future, it will be treated as `np.float64 == np.dtype(float).type`.\n",
      "  from ._conv import register_converters as _register_converters\n"
     ]
    }
   ],
   "source": [
    "#Packages and modules\n",
    "%config InlineBackend.figure_format = 'retina'\n",
    "%matplotlib inline\n",
    "\n",
    "import subprocess\n",
    "import shutil\n",
    "import os\n",
    "import sys\n",
    "import pandas as pd\n",
    "import numpy as np\n",
    "from __future__ import unicode_literals\n",
    "from __future__ import division\n",
    "from nilearn import plotting\n",
    "from time import time\n",
    "import io\n",
    "from time import time\n",
    "import subprocess\n",
    "import sys\n",
    "\n",
    "import matplotlib.pyplot as plt\n",
    "import matplotlib.gridspec as gridspec\n",
    "import matplotlib.colors as mcolors\n",
    "import matplotlib.image as mpimg\n",
    "\n",
    "from glob import glob\n",
    "import nibabel as nib\n",
    "\n",
    "sys.path.append('/data2/jupyter/notebooks/modules/')\n",
    "from nimlab.functions import *\n",
    "from nimlab.software import *"
   ]
  },
  {
   "cell_type": "code",
   "execution_count": null,
   "metadata": {
    "code_folding": [],
    "collapsed": true,
    "scrolled": true
   },
   "outputs": [],
   "source": [
    "# Input control:\n",
    "\n",
    "#Load in dataframes\n",
    "df_xnat=pd.read_csv(\"Corbetta_Lesions.csv\")\n",
    "df=pd.read_csv('Corbetta_Demographics_filtered_and_grouped.csv')\n",
    "\n",
    "\n",
    "\n",
    "# Create target and control using output from dash_data\n",
    "Control=df[df['trs_col_group()']=='Control']\n",
    "Target=df[df['trs_col_group()']=='Case']\n",
    "\n",
    "#Merge target and control with df_xnat using a left join.\n",
    "Full_Target=Target.merge(df_xnat, on='subject', how='left')\n",
    "Full_Control=Control.merge(df_xnat, on='subject', how='left')\n",
    "\n",
    "#Dropping NAs patients:\n",
    "TF=Full_Target.dropna(axis=0, how='any')\n",
    "TC=Full_Control.dropna(axis=0, how='any')\n",
    "\n",
    "# Combine target and control data frames:\n",
    "dat=TF[['subject', 'sip_social', 'Lesion']].append(\n",
    "TC[['subject', 'sip_social', 'Lesion']])\n",
    "dat[\"type1\"]=[1]*len(TF)+[0]*len(TC)\n",
    "dat[\"type2\"]=[0]*len(TF)+[1]*len(TC)\n",
    "dat=dat.reset_index(drop=True)"
   ]
  },
  {
   "cell_type": "code",
   "execution_count": null,
   "metadata": {
    "code_folding": [],
    "collapsed": true
   },
   "outputs": [],
   "source": [
    "#Creating images folder for BSGLMM:\n",
    "\n",
    "#Create folder and copy the BSGLMM mask to the local images folder\n",
    "if not os.path.exists('images/'):\n",
    "    os.makedirs('images/')\n",
    "    shutil.copy('/data2/jupyter/notebooks/modules/BSGLMM_Support/Mask/mask.nii.gz', './images/')\n",
    "#Copy all the lesions files for the analysis in the local images folder\n",
    "for i in dat['Lesion']:\n",
    "    shutil.copy(i, './images/')\n",
    "\n",
    "#Extract the Lesion file names from the lesions paths:\n",
    "outdf=[]\n",
    "files = dat['Lesion']\n",
    "for i in range(0,len(files)):\n",
    "    chrstr=files[i]\n",
    "    outstr=chrstr.split(\"/\")[-1]\n",
    "    outdf.append(outstr)"
   ]
  },
  {
   "cell_type": "code",
   "execution_count": null,
   "metadata": {
    "code_folding": [],
    "collapsed": true
   },
   "outputs": [],
   "source": [
    "# Create the BSGLMM input file as a dataframe:\n",
    "datf=dat.rename(index=str, columns={\"subject\": \"ID\", \"Lesion\":\"image_file\"})\n",
    "\n",
    "# Rename the columns with BSGLMM naming convention\n",
    "datf=datf[['ID', 'type1', 'type2', 'sip_social', 'image_file']]\n",
    "\n",
    "# Replace entire nimlab \n",
    "datf['image_file']=outdf\n",
    "\n",
    "#Export the BSGLMM input file to the correct format\n",
    "datf.to_csv(\"bsglmm_input.dat\", index=None,sep=b\"\\t\", encoding='utf-8')"
   ]
  },
  {
   "cell_type": "code",
   "execution_count": null,
   "metadata": {
    "collapsed": true,
    "scrolled": true
   },
   "outputs": [],
   "source": [
    "# Call BSGLMM using the call_bsglmm function from nimlab.software\n",
    "call_bsglmm(2,3, MaxIter=1000000, BurnIn=500000)"
   ]
  },
  {
   "cell_type": "code",
   "execution_count": null,
   "metadata": {
    "code_folding": [
     2,
     11
    ],
    "collapsed": true,
    "scrolled": false
   },
   "outputs": [],
   "source": [
    "# Show BSGLMM outputs: \n",
    "from glob import glob\n",
    "for i in glob(\"prb*\"):\n",
    "    cpgeom_cmd='fslcpgeom /usr/share/fsl/5.0/data/standard/MNI152_T1_2mm_brain.nii.gz '+i\n",
    "    subprocess.call(cpgeom_cmd, shell=True)\n",
    "    print \"Printing \"+i\n",
    "    plotting.plot_glass_brain(i, display_mode='lyrz', colorbar=True)\n",
    "    plotting.show()\n",
    "    img = nib.load(i)\n",
    "    plt.plot(np.ndarray.flatten(np.array(img.dataobj)))\n",
    "    \n",
    "for i in glob(\"standCoef*\"):\n",
    "    print \"Printing \"+i\n",
    "    cpgeom_cmd='fslcpgeom /usr/share/fsl/5.0/data/standard/MNI152_T1_2mm_brain.nii.gz '+i\n",
    "    subprocess.call(cpgeom_cmd, shell=True)\n",
    "    plotting.plot_glass_brain(i, display_mode='lyrz', colorbar=True)\n",
    "    plotting.show()\n",
    "    img = nib.load(i)\n",
    "    plt.plot(np.ndarray.flatten(np.array(img.dataobj)))"
   ]
  }
 ],
 "metadata": {
  "kernelspec": {
   "display_name": "nimlab-python2-kernel",
   "language": "python",
   "name": "nimlab-python2-kernel"
  },
  "language_info": {
   "codemirror_mode": {
    "name": "ipython",
    "version": 2
   },
   "file_extension": ".py",
   "mimetype": "text/x-python",
   "name": "python",
   "nbconvert_exporter": "python",
   "pygments_lexer": "ipython2",
   "version": "2.7.12"
  }
 },
 "nbformat": 4,
 "nbformat_minor": 2
}
