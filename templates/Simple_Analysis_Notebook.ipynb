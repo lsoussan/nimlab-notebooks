{
 "cells": [
  {
   "cell_type": "markdown",
   "metadata": {},
   "source": [
    "# The \"Simple\" Lesion Notebook"
   ]
  },
  {
   "cell_type": "markdown",
   "metadata": {},
   "source": [
    "### Authors: Alexander Cohen and Louis Soussand - Version 1.6 - 12/27/2017\n",
    "Changelog:\n",
    "\n",
    "1.0 Initial Release\n",
    "\n",
    "1.1 Added Code to allow choosing a subset of subjects by providing a textfile of IDs\n",
    "\n",
    "1.2 Now able to receive dataset info from XNAT Gate and access the data by streaming XNAT backup on the Millenium Falcon.\n",
    "\n",
    "1.3 Cleaned up cells  \n",
    "1.3.1 Typo fixed\n",
    "\n",
    "1.4 Fixed order of cells and 'indir' error\n",
    "1.4.1 Fixed the selection of a Subject list\n",
    "\n",
    "1.5 Added nimlab module (functions)\n",
    "\n",
    "1.6 Added nimlab module (software)"
   ]
  },
  {
   "cell_type": "markdown",
   "metadata": {},
   "source": [
    "#### This notebook is intendend to be run cell by cell to conduct lesion network analysis on a single set of lesions. Cells that contain #??? at the begininng have settings that you can/should modify.\n",
    "\n",
    "Using this notebook, you can:\n",
    "\n",
    "1) Load necessary packages\n",
    "\n",
    "2) Select the input and output directories\n",
    "(This notebook expects the input to have subdirectories of \"Lesions\" and \"Functional_Connectivity\" with the connectome.sh output in the latter.)\n",
    "\n",
    "3) Explore the lesions visually\n",
    "\n",
    "4) Review the amount of overlap for a range of thresholds with the fc T-maps\n",
    "\n",
    "5) Choose a specific threshold and review the spatial extent of the overlap at various 'fractional' thresholds (# subjects/total)\n",
    "\n",
    "6) Finalize a figure and NIFTI file of the peak locations\n",
    "\n",
    "7) Use this to generate ROIs\n",
    "\n",
    "8) Obtain the correlations between these ROIs and each subjects' lesion\n",
    "\n",
    "9) Display the results as a series of boxplots\n",
    "\n",
    "For more detailed analysis, switch to the Two-Sample T-Test or ROI Predictor notebook."
   ]
  },
  {
   "cell_type": "code",
   "execution_count": null,
   "metadata": {
    "code_folding": [],
    "collapsed": true,
    "scrolled": false
   },
   "outputs": [],
   "source": [
    "## Packages and environmental settings:\n",
    "\n",
    "## Environment:\n",
    "%config InlineBackend.figure_format = 'retina'\n",
    "%matplotlib inline\n",
    "\n",
    "##Packages:\n",
    "import sys\n",
    "import string\n",
    "import os\n",
    "import glob\n",
    "import math\n",
    "import numpy as np\n",
    "import hdf5storage as hdf\n",
    "import scipy as sp\n",
    "import pandas as pd\n",
    "import nilearn\n",
    "import nibabel as nb\n",
    "from nilearn import plotting, image, masking, regions\n",
    "import io\n",
    "import time\n",
    "import subprocess\n",
    "import sys\n",
    "\n",
    "import matplotlib.pyplot as plt\n",
    "import matplotlib.gridspec as gridspec\n",
    "import matplotlib.colors as mcolors\n",
    "import matplotlib.image as mpimg\n",
    "\n",
    "import multiprocessing\n",
    "\n",
    "from time import time\n",
    "from random import random\n",
    "\n",
    "## nimlab package is hosted internally on the M Falcon\n",
    "sys.path.append('/data2/jupyter/notebooks/modules/')\n",
    "from nimlab.functions import *\n",
    "from nimlab.software import *"
   ]
  },
  {
   "cell_type": "markdown",
   "metadata": {},
   "source": [
    "## Where are the lesion and functional connectivity files and where do you want your output?"
   ]
  },
  {
   "cell_type": "code",
   "execution_count": null,
   "metadata": {
    "code_folding": [],
    "collapsed": true
   },
   "outputs": [],
   "source": [
    "#??? Inputs Required:\n",
    "\n",
    "# ------------------------- XNAT_Gate Datasets ----------------------\n",
    "# Set XNAT_file='' if not using an XNAT csv file:\n",
    "XNAT_file='Prosopagnosia.csv'\n",
    "# XNAT_file=''\n",
    "\n",
    "if XNAT_file:\n",
    "    # Target (this is just a label to distinguish this analysis from another analysis)\n",
    "    Target='PA_nonFFA_Patients'\n",
    "    # Set this to where you would like the outputs to be written\n",
    "    output_folder=\"/data2/jupyter/notebooks/acohen8/PA/xnat_notebook_analysis\"\n",
    "    \n",
    "    # Don't touch these four lines unless you understand the code.\n",
    "    filename=XNAT_file.replace('.csv', '')\n",
    "    path='XNAT Dataset'\n",
    "    Dataset=filename\n",
    "#     Subject_List=''\n",
    "    Subject_List=''\n",
    "# ------------------------- XNAT_Gate Datasets ----------------------\n",
    "\n",
    "\n",
    "\n",
    "# ------------------------- Local Datasets --------------------------\n",
    "if not XNAT_file:\n",
    "    # Set this to the location of your target data, with sub-folders of: \"Lesions\" and \"Functional_Connectivity\":\n",
    "    path=\"/home/acohen8/projects/PA\"\n",
    "\n",
    "    # Set this to where you would like the outputs to be written (the output below will be put into a sub-directory here)\n",
    "    output_folder=\"/home/acohen8/projects/PA/notebook_analysis\"\n",
    "\n",
    "    # Dataset:\n",
    "    Dataset='Prosopagnosia'\n",
    "\n",
    "    # List of Specific Subject IDs you want to examine (set to '' if you want everyone):\n",
    "    Subject_List='/home/acohen8/projects/PA/notebook_analysis/Prosopagnosia_Cases_output_directory/ROIs/Prosopagnosia_Cases_FC_Peaks_T9_43of44_ROI0_exclusion_list.txt'\n",
    "    # Subject_List=''\n",
    "\n",
    "    # Target (this is just a label to distinguish this analysis from another analysis)\n",
    "    Target='Non_FFA'\n",
    "# ------------------------- Local Datasets --------------------------"
   ]
  },
  {
   "cell_type": "markdown",
   "metadata": {},
   "source": [
    "### Get the Lesion and FC Filenames for the Chosen Dataset:"
   ]
  },
  {
   "cell_type": "code",
   "execution_count": null,
   "metadata": {
    "code_folding": [],
    "collapsed": true
   },
   "outputs": [],
   "source": [
    "# Load in the file names\n",
    "\n",
    "indir=path+'/'\n",
    "if not XNAT_file:\n",
    "    # Get Lesion, fc_T Files, and fc_Fz Files\n",
    "    TF = sorted(glob.glob(indir+'Lesions/'+\"*gz\"))\n",
    "    lcs=longest_common_suffix(TF)\n",
    "\n",
    "    Target_IDs=[]\n",
    "    for i in range(0, len(TF)):\n",
    "        sub=os.path.basename(TF[i][0:-len(lcs)])\n",
    "        Target_IDs.append(sub)\n",
    "\n",
    "    # Selection of Specific Subjects\n",
    "    if Subject_List:\n",
    "        f = open(Subject_List, 'r')\n",
    "        Target_IDs = f.read().splitlines()\n",
    "    N_of_images=len(Target_IDs)\n",
    "\n",
    "    # Get Lesion, fc_T Files, and fc_Fz Files\n",
    "    Target_files = [glob.glob(indir+'Lesions/'+str(entry)+\"*gz\")[0] for entry in Target_IDs]\n",
    "    Target_fc_files = [glob.glob(indir+'Functional_Connectivity/'+str(entry)+\"*_func_seed_T.nii.gz\")[0] for entry in Target_IDs]\n",
    "    Target_fc_Fz_files = [glob.glob(indir+'Functional_Connectivity/'+str(entry)+\"*_func_seed_AvgR_Fz.nii.gz\")[0] for entry in Target_IDs]    \n",
    "    \n",
    "else:    \n",
    "    #Read csv file in pandas dataframe format:\n",
    "    pd_df=pd.read_csv(XNAT_file)\n",
    "\n",
    "    Target_IDs=pd_df['subject']\n",
    "\n",
    "    # Selection of Specific Subjects\n",
    "    if Subject_List:\n",
    "        f = open(Subject_List, 'r')\n",
    "        Target_IDs = f.read().splitlines()\n",
    "        pd_df = pd_df.loc[pd_df['subject'].isin(Target_IDs)]\n",
    "        pd_df.index = pd.RangeIndex(len(pd_df.index))\n",
    "    N_of_images=len(Target_IDs)\n",
    "\n",
    "    # Get Lesion, fc_T Files, and fc_Fz Files\n",
    "    Target_files = pd_df['Lesion']\n",
    "    Target_fc_files = pd_df['func_T']\n",
    "    Target_fc_Fz_files = pd_df['AvgR_Fz']"
   ]
  },
  {
   "cell_type": "markdown",
   "metadata": {},
   "source": [
    "## Output Control:"
   ]
  },
  {
   "cell_type": "code",
   "execution_count": null,
   "metadata": {
    "code_folding": [],
    "collapsed": true
   },
   "outputs": [],
   "source": [
    "## Output control:\n",
    "\n",
    "outdir=output_folder+'/'+Dataset+'_'+Target+'_output/'\n",
    "    \n",
    "if not os.path.exists(outdir):\n",
    "    #create the output directory\n",
    "    os.makedirs(outdir)\n",
    "   \n",
    "    #Within the output directory, 3 subfolders are created:\n",
    "   \n",
    "    #output images\n",
    "if not os.path.exists(outdir+'images/'):\n",
    "    os.makedirs(outdir+'images/')\n",
    "    #final ROIs (not lesions)\n",
    "if not os.path.exists(outdir+'ROIs/'):\n",
    "    os.makedirs(outdir+'ROIs/')\n",
    "    #Analyses: empty subfolder for subsequent analyses\n",
    "if not os.path.exists(outdir+'Analyses/'):\n",
    "    os.makedirs(outdir+'Analyses/')"
   ]
  },
  {
   "cell_type": "markdown",
   "metadata": {},
   "source": [
    "### Print Selections:"
   ]
  },
  {
   "cell_type": "code",
   "execution_count": null,
   "metadata": {
    "collapsed": true
   },
   "outputs": [],
   "source": [
    "print 'The input directory being used is: '+ path\n",
    "print 'The output directory being used is: ' + output_folder\n",
    "\n",
    "print 'The dataset label is: '+ Dataset\n",
    "print 'The symptom we are going to study is: '+ Target"
   ]
  },
  {
   "cell_type": "markdown",
   "metadata": {},
   "source": [
    "### The following cell provide visual display of the underlying lesion data, thus does not need to be run more than once per dataset."
   ]
  },
  {
   "cell_type": "code",
   "execution_count": null,
   "metadata": {
    "code_folding": [],
    "collapsed": true,
    "scrolled": true
   },
   "outputs": [],
   "source": [
    "# Lesion Visualization:\n",
    "Target_lesions = [image.load_img(entry) for entry in Target_files]\n",
    "Target_lesion_overlap = image.math_img(\"img*\"+str(len(Target_files)),img=image.mean_img(Target_lesions))\n",
    "lesion_mask = image.math_img(\"img>=1\",img=Target_lesion_overlap)\n",
    "\n",
    "fast_glass_brain_plot(Target_lesion_overlap,colorbar=True,display_mode='lyrz',title=\" N=\"+str(N_of_images),output_file=outdir+\"images/\"+Dataset+\"_\"+Target+\"_Lesions_glass.png\")\n",
    "fidl_plot2(Target_lesion_overlap,\"N=\"+str(N_of_images),filename_to_use=outdir+\"images/\"+Dataset+\"_\"+Target+\"_Lesions_slices.png\")\n",
    "\n",
    "fast_glass_brain_plot(lesion_mask,colorbar=True,display_mode='lyrz',cmap=\"Reds\",title=\"N=\"+str(N_of_images)+\" Coverage\",output_file=outdir+\"images/\"+Dataset+\"_\"+Target+\"_Lesions_coverage_glass.png\")\n",
    "fidl_plot2(lesion_mask,\"N=\"+str(N_of_images)+\" Coverage\",cmap_to_use=\"Reds\",filename_to_use=outdir+\"images/\"+Dataset+\"_\"+Target+\"_Lesions_coverage_slices.png\")"
   ]
  },
  {
   "cell_type": "code",
   "execution_count": null,
   "metadata": {
    "code_folding": [
     0
    ],
    "collapsed": true
   },
   "outputs": [],
   "source": [
    "# Create folder for list of files:\n",
    "# Make text files for each lists of cases and controls\n",
    "\n",
    "#Cases:\n",
    "Target_lesion_filelist = open(outdir+'/'+Dataset+\"_\"+Target+'_cases_lesion_files.txt','w+')\n",
    "for entry in Target_files:\n",
    "    print>>Target_lesion_filelist,entry\n",
    "Target_lesion_filelist.close()\n",
    "\n",
    "Target_fc_filelist = open(outdir+'/'+Dataset+\"_\"+Target+'_cases_fcT_files.txt','w+')\n",
    "for entry in Target_fc_files:\n",
    "    print>>Target_fc_filelist,entry\n",
    "Target_fc_filelist.close()\n",
    "\n",
    "Target_fc_Fz_filelist = open(outdir+'/'+Dataset+\"_\"+Target+'_cases_Fz_files.txt','w+')\n",
    "for entry in Target_fc_Fz_files:\n",
    "    print>>Target_fc_Fz_filelist,entry\n",
    "Target_fc_Fz_filelist.close()"
   ]
  },
  {
   "cell_type": "markdown",
   "metadata": {},
   "source": [
    "### The following cell provide visual display of each lesion and its corresponding fc T map, thus does not need to be run more than once per dataset."
   ]
  },
  {
   "cell_type": "code",
   "execution_count": null,
   "metadata": {
    "code_folding": [],
    "collapsed": true,
    "scrolled": true
   },
   "outputs": [],
   "source": [
    "# Show each individual lesion and connectivity (note, this cell does all of the work, and THEN shows you the results)\n",
    "\n",
    "for idx, entry in enumerate(Target_IDs):\n",
    "    print \"Working on \"+str(entry)\n",
    "    plotting.plot_stat_map(Target_files[idx],colorbar=False,title=str(entry),cmap=\"bwr\",draw_cross=False)\n",
    "    fast_glass_brain_plot(Target_files[idx], display_mode='lyrz', title=str(entry),colorbar=False)\n",
    "    fast_glass_brain_plot(Target_fc_files[idx],plot_abs=False,colorbar=True,display_mode='lyrz',title=str(entry))"
   ]
  },
  {
   "cell_type": "markdown",
   "metadata": {},
   "source": [
    "# Start of Actual Lesion Network Analysis"
   ]
  },
  {
   "cell_type": "markdown",
   "metadata": {},
   "source": [
    "## Find maximal functional connectivity T-map Network Overlaps"
   ]
  },
  {
   "cell_type": "code",
   "execution_count": null,
   "metadata": {
    "code_folding": [
     0
    ],
    "collapsed": true,
    "scrolled": true
   },
   "outputs": [],
   "source": [
    "# Load up T maps\n",
    "Target_lesion_fc_networks = [image.load_img(entry) for entry in Target_fc_files]\n",
    "print Target+\" N=\"+str(len(Target_IDs))"
   ]
  },
  {
   "cell_type": "code",
   "execution_count": null,
   "metadata": {
    "code_folding": [
     10
    ],
    "collapsed": true,
    "scrolled": true
   },
   "outputs": [],
   "source": [
    "#??? Inputs Required: \n",
    "\n",
    "# This part can take 10-15 minutes\n",
    "# Threshold and compute overlap \n",
    "# Set T_levels to a range of T-values to examine. 4-17, which in python is range(4,18,1) seems a reasonable range\n",
    "# for the Yeo 1000 dataset, but feel free to change it.\n",
    "T_levels=range(4,18,1)\n",
    "\n",
    "n=str(len(Target_files))\n",
    "start=time()\n",
    "for i in T_levels:\n",
    "    Target_lesion_fc_networks_thresholded_pos = [image.math_img('img > '+str(i), img=entry) for entry in Target_lesion_fc_networks]\n",
    "    Target_lesion_fc_network_thresholded_pos_overlap = image.math_img(\"img*\"+n,img=image.mean_img(Target_lesion_fc_networks_thresholded_pos))\n",
    "    fidl_plot2(Target_lesion_fc_network_thresholded_pos_overlap,Target+\" FC Pos Overlap, Threshold=\" + str(i), filename_to_use=outdir+\"images/\"+Dataset+\"_\"+Target+\"_case_FC_Pos_Overlap_Threshold\"+str(i)+\"_slices.png\")\n",
    "    fast_glass_brain_plot(Target_lesion_fc_network_thresholded_pos_overlap,plot_abs=False,colorbar=True,display_mode='lyrz', title=Target+\" FC Pos Overlap, Threshold=\"+str(i),cmap=hotBlues(),output_file=outdir+\"images/\"+Dataset+\"_\"+ Target+\"_case_FC_Pos_Overlap_Threshold\"+str(i)+\"_glass.png\")\n",
    "\n",
    "    Target_lesion_fc_networks_thresholded_neg = [image.math_img('img < -'+str(i), img=entry) for entry in Target_lesion_fc_networks]\n",
    "    Target_lesion_fc_network_thresholded_neg_overlap = image.math_img(\"img*\"+n,img=image.mean_img(Target_lesion_fc_networks_thresholded_neg))\n",
    "    fidl_plot2(Target_lesion_fc_network_thresholded_neg_overlap,Target+\" FC Neg Overlap, Threshold=\"+str(i),filename_to_use=outdir+\"images/\"+Dataset+\"_\"+Target+\"_case_FC_Neg_Overlap_Threshold\"+str(i)+\"_slices.png\",cmap_to_use=hotBlues(reverse=True))\n",
    "    fast_glass_brain_plot(Target_lesion_fc_network_thresholded_neg_overlap,plot_abs=False,colorbar=True,display_mode='lyrz',title=Target+\" FC Neg Overlap, Threshold=\"+str(i),cmap=hotBlues(reverse=True),output_file=outdir+\"images/\"+Dataset+\"_\"+Target+\"_case_FC_Neg_Overlap_Threshold\"+str(i)+\"_glass.png\")    \n",
    "end=time()\n",
    "\n",
    "print end-start    "
   ]
  },
  {
   "cell_type": "code",
   "execution_count": null,
   "metadata": {
    "code_folding": [
     0
    ],
    "collapsed": true,
    "scrolled": true
   },
   "outputs": [],
   "source": [
    "# show me a curve of maximal overlap vs FC T-map Tscore threshold\n",
    "\n",
    "max_pos_overlap=[0]*len(T_levels)\n",
    "max_neg_overlap=[0]*len(T_levels)\n",
    "for idx,i in enumerate(T_levels):\n",
    "    Target_lesion_fc_networks_thresholded_pos = [image.math_img('img > '+str(i), img=entry) for entry in Target_lesion_fc_networks]\n",
    "    Target_lesion_fc_network_thresholded_pos_overlap = image.math_img(\"img*\"+n,img=image.mean_img(Target_lesion_fc_networks_thresholded_pos))\n",
    "    Target_lesion_fc_networks_thresholded_neg = [image.math_img('img < -'+str(i), img=entry) for entry in Target_lesion_fc_networks]\n",
    "    Target_lesion_fc_network_thresholded_neg_overlap = image.math_img(\"img*\"+n,img=image.mean_img(Target_lesion_fc_networks_thresholded_neg))\n",
    "    \n",
    "    max_pos_overlap[idx]=np.max(Target_lesion_fc_network_thresholded_pos_overlap.get_data())\n",
    "    max_neg_overlap[idx]=np.max(Target_lesion_fc_network_thresholded_neg_overlap.get_data())\n",
    "\n",
    "plt.plot(T_levels,max_pos_overlap,linewidth=3,label='Positive')\n",
    "plt.plot(T_levels,max_neg_overlap,linewidth=3,label='Negative')\n",
    "plt.title(\"Max overlap vs T-score cutoff\")\n",
    "plt.xlabel(\"T-score cutoff\")\n",
    "plt.ylabel(\"Max overlap\")\n",
    "plt.legend();"
   ]
  },
  {
   "cell_type": "markdown",
   "metadata": {},
   "source": [
    "## Using a specific threshold looking for amount of overlap"
   ]
  },
  {
   "cell_type": "code",
   "execution_count": null,
   "metadata": {
    "code_folding": [
     19
    ],
    "collapsed": true,
    "scrolled": true
   },
   "outputs": [],
   "source": [
    "#??? Inputs Required: \n",
    "\n",
    "# Set i to the chosen T-score threshold you would like to use to binarize the maps prior to \n",
    "# calculating the amount of overlap.\n",
    "T_level=10\n",
    "\n",
    "# Set thres_maps_range to the number of subjects' overlap you want to threshold the map at.\n",
    "# starting at 80% of your sample up to the max is not a bad place to start, but you're interested in the top end.\n",
    "thres_maps_range=range(int(.8*len(Target_files)),len(Target_files)+1,1)\n",
    "# thres_maps_range=range(30,45,1)\n",
    "\n",
    "i=T_level\n",
    "n=str(len(Target_files))\n",
    "start=time()\n",
    "Target_lesion_fc_networks_thresholded_pos = [image.math_img('img > '+str(i), img=entry) for entry in Target_lesion_fc_networks]\n",
    "Target_lesion_fc_network_thresholded_pos_overlap = image.math_img(\"img*\"+n,img=image.mean_img(Target_lesion_fc_networks_thresholded_pos))\n",
    "Target_lesion_fc_networks_thresholded_neg = [image.math_img('img < -'+str(i), img=entry) for entry in Target_lesion_fc_networks]\n",
    "Target_lesion_fc_network_thresholded_neg_overlap = image.math_img(\"img*\"+n,img=image.mean_img(Target_lesion_fc_networks_thresholded_neg))\n",
    "\n",
    "for thres_maps in thres_maps_range:\n",
    "    fidl_plot2(image.threshold_img(Target_lesion_fc_network_thresholded_pos_overlap,threshold=thres_maps),Target+\" FC Pos Overlap, Thres=\"+str(i)+\"Frac=\"+str(thres_maps),filename_to_use=outdir+\"images/\"+Dataset+\"_\"+Target+\"_case_FC_Pos_Overlap_Threshold\"+str(i)+\"_Frac\"+str(thres_maps)+\"_slices.png\")\n",
    "    fast_glass_brain_plot(image.threshold_img(Target_lesion_fc_network_thresholded_pos_overlap,threshold=thres_maps),plot_abs=False,colorbar=True,display_mode='lyrz',title=Target+\" FC Pos Overlap, Threshold=\"+str(i)+\"Fraction\"+str(thres_maps),cmap=hotBlues(),output_file=outdir+\"images/\"+Dataset+\"_\"+Target+\"_case_FC_Pos_Overlap_Threshold\"+str(i)+\"_Frac\"+str(thres_maps)+\"_glass.png\")\n",
    "    \n",
    "    fidl_plot2(image.threshold_img(Target_lesion_fc_network_thresholded_neg_overlap,threshold=thres_maps),Target+\" FC Neg Overlap, Thres=\"+str(i)+\"Frac=\"+str(thres_maps),filename_to_use=outdir+\"images/\"+Dataset+\"_\"+Target+\"_case_FC_Neg_Overlap_Threshold\"+str(i)+\"_Frac\"+str(thres_maps)+\"_slices.png\",cmap_to_use=hotBlues(reverse=True))\n",
    "    fast_glass_brain_plot(image.threshold_img(Target_lesion_fc_network_thresholded_neg_overlap,threshold=thres_maps),plot_abs=False,colorbar=True,display_mode='lyrz',title=Target+\" FC Neg Overlap, Threshold=\"+str(i)+\"Fraction\"+str(thres_maps),cmap=hotBlues(reverse=True),output_file=outdir+\"images/\"+Dataset+\"_\"+Target+\"_case_FC_Neg_Overlap_Threshold\"+str(i)+\"_Frac\"+str(thres_maps)+\"_glass.png\")\n",
    "end=time()\n",
    "print end-start"
   ]
  },
  {
   "cell_type": "code",
   "execution_count": null,
   "metadata": {
    "collapsed": true
   },
   "outputs": [],
   "source": [
    "#??? Inputs Required: \n",
    "\n",
    "# Using a specific threshold and specific fractions, show me the peaks.\n",
    "# Typically you want pos and neg to be the same, but if needed, you can set them separately:\n",
    "T_level=10\n",
    "pos_frac=18\n",
    "neg_frac=18\n",
    "n=str(len(Target_files))\n",
    "\n",
    "Target_lesion_fc_networks_thresholded_pos = [image.math_img('img > '+str(T_level), img=entry) for entry in Target_lesion_fc_networks]\n",
    "Target_lesion_fc_network_thresholded_pos_overlap = image.math_img(\"img*\"+n,img=image.mean_img(Target_lesion_fc_networks_thresholded_pos))\n",
    "\n",
    "Target_lesion_fc_networks_thresholded_neg = [image.math_img('img < -'+str(T_level), img=entry) for entry in Target_lesion_fc_networks]\n",
    "Target_lesion_fc_network_thresholded_neg_overlap = image.math_img(\"img*\"+n,img=image.mean_img(Target_lesion_fc_networks_thresholded_neg))\n",
    "\n",
    "Target_lesion_fc_network_thresholded_map = image.math_img(\"img1 - img2\",img1=image.threshold_img(Target_lesion_fc_network_thresholded_pos_overlap,threshold=pos_frac),img2=image.threshold_img(Target_lesion_fc_network_thresholded_neg_overlap,threshold=neg_frac))\n",
    "\n",
    "fidl_plot2(Target_lesion_fc_network_thresholded_map,Target+\" FC Peaks\", filename_to_use=outdir+\"images/\"+Dataset+\"_\"+Target+\"_case_FC_Peaks_slices.png\",cmap_to_use=hotBlues())\n",
    "fast_glass_brain_plot(Target_lesion_fc_network_thresholded_map,plot_abs=False,colorbar=True,display_mode='lyrz',title=Target+\" FC Peaks\",cmap=hotBlues(),output_file=outdir+\"images/\"+Dataset+\"_\"+Target+\"_case_FC_Peaks_glass.png\")"
   ]
  },
  {
   "cell_type": "markdown",
   "metadata": {},
   "source": [
    "## Obtain ROIs and compare Lesion-ROI connectivity scores"
   ]
  },
  {
   "cell_type": "code",
   "execution_count": null,
   "metadata": {
    "code_folding": [],
    "collapsed": true
   },
   "outputs": [],
   "source": [
    "# Print the peaks image and the underlying overlap map to nifti files:\n",
    "\n",
    "Target_lesion_fc_network_underlying_map = image.math_img(\"img1 - img2\",img1=Target_lesion_fc_network_thresholded_pos_overlap,img2=Target_lesion_fc_network_thresholded_neg_overlap)\n",
    "\n",
    "Target_lesion_fc_network_underlying_map.to_filename(outdir+\"ROIs/\"+Dataset+\"_\"+Target+\"_FC_Peaks_T\"+str(T_level)+\".nii.gz\")\n",
    "Target_lesion_fc_network_thresholded_map.to_filename(outdir+\"ROIs/\"+Dataset+\"_\"+Target+\"_FC_Peaks_T\"+str(T_level)+\"_\"+str(pos_frac)+\"of\"+n+\".nii.gz\")"
   ]
  },
  {
   "cell_type": "code",
   "execution_count": null,
   "metadata": {
    "code_folding": [],
    "collapsed": true
   },
   "outputs": [],
   "source": [
    "#??? Inputs Required: \n",
    "\n",
    "# You may need to play with this to help the peak detector produce the regions you want,\n",
    "# this is in mm^3, for small ditzels, try 10, for bigger blobs try 500, etc...\n",
    "minimum_region_size=10\n",
    "\n",
    "# Isolate the regions into separate ROIs:\n",
    "peak_regions, roi_index = regions.connected_regions(Target_lesion_fc_network_thresholded_map,extract_type='connected_components',min_region_size=minimum_region_size)"
   ]
  },
  {
   "cell_type": "code",
   "execution_count": null,
   "metadata": {
    "code_folding": [
     0
    ],
    "collapsed": true,
    "scrolled": true
   },
   "outputs": [],
   "source": [
    "# Show me each ROI\n",
    "\n",
    "a=range(0,len(roi_index))\n",
    "for i in a:\n",
    "    img = image.index_img(peak_regions,i)\n",
    "    plotting.plot_stat_map(img,colorbar=False,title=\"ROI #\"+str(i),cmap=\"bwr\")"
   ]
  },
  {
   "cell_type": "code",
   "execution_count": null,
   "metadata": {
    "code_folding": [
     6
    ],
    "collapsed": true
   },
   "outputs": [],
   "source": [
    "#??? Inputs Required: \n",
    "\n",
    "# Print out the regions you want as nifti files:\n",
    "# The numbers here correspond to the legends in the figure above (i.e., starts with #0)\n",
    "rois_to_print=[0, 5]\n",
    "\n",
    "for i in rois_to_print:\n",
    "    image.math_img(\"img!=0\",img=image.index_img(peak_regions,i)).to_filename(outdir+\"ROIs/\"+Dataset+\"_\"+Target+\"_FC_Peaks_T\"+str(T_level)+\"_\"+str(pos_frac)+\"of\"+n+\"_ROI\"+str(i)+\".nii.gz\")"
   ]
  },
  {
   "cell_type": "markdown",
   "metadata": {},
   "source": [
    "## Additional Analyses start here:"
   ]
  },
  {
   "cell_type": "code",
   "execution_count": null,
   "metadata": {
    "code_folding": [
     0
    ],
    "collapsed": true
   },
   "outputs": [],
   "source": [
    "# make a text file list of the ROIs with absolute paths\n",
    "list_of_ROIs=sorted(glob.glob(outdir+\"ROIs/\"+Dataset+\"_\"+Target+\"_FC_Peaks_T\"+str(T_level)+\"_\"+str(pos_frac)+\"of\"+n+\"_ROI*.nii.gz\"))\n",
    "list_of_ROIs_filelist=open(outdir+\"Analyses/\"+Dataset+\"_\"+Target+\"_FC_Peaks_T\"+str(T_level)+\"_\"+str(pos_frac)+\"of\"+n+\"_ROI_list.txt\",'w+')\n",
    "for entry in list_of_ROIs:\n",
    "    print>>list_of_ROIs_filelist,os.path.abspath(entry)\n",
    "list_of_ROIs_filelist.close()\n",
    "\n",
    "ROI_names=[entry[-11:-7] for entry in list_of_ROIs]"
   ]
  },
  {
   "cell_type": "code",
   "execution_count": null,
   "metadata": {
    "collapsed": true
   },
   "outputs": [],
   "source": [
    "os.path.basename(Target_files[0])"
   ]
  },
  {
   "cell_type": "code",
   "execution_count": null,
   "metadata": {
    "code_folding": [],
    "collapsed": true
   },
   "outputs": [],
   "source": [
    "# Load List of ROI of interest and List of Lesion ROIs, then run against Yeo and save correl values\n",
    "\n",
    "# connectome.sh requires .nii files, for XNAT datasets, \n",
    "# a nii copy of the lesion files is created in ROIs/niiLesions\n",
    "\n",
    "# This takes a while, watch top on the terminal or follow connectome.log\n",
    "\n",
    "ROI_vs_lesion_list=open(outdir+\"Analyses/\"+\"Current_lesion_vs_ROI_list.txt\",'w+')\n",
    "for entry in list_of_ROIs:\n",
    "    print>>ROI_vs_lesion_list,os.path.abspath(entry)\n",
    "\n",
    "if XNAT_file:\n",
    "    Target_files_nii=[]\n",
    "    if not os.path.exists(outdir+'ROIs/niiLesions'):\n",
    "        os.makedirs(outdir+'ROIs/niiLesions')\n",
    "    for entry in Target_files:\n",
    "        o=outdir+'ROIs/niiLesions'+'/'+os.path.basename(entry)[:-3]\n",
    "        Target_files_nii.append(o)\n",
    "        if not os.path.exists(o):\n",
    "            !gunzip -c {entry} > {o}\n",
    "        print>>ROI_vs_lesion_list,o\n",
    "else:\n",
    "    for entry in Target_files:\n",
    "        print>>ROI_vs_lesion_list,entry\n",
    "ROI_vs_lesion_list.close()\n",
    "\n"
   ]
  },
  {
   "cell_type": "code",
   "execution_count": null,
   "metadata": {
    "collapsed": true
   },
   "outputs": [],
   "source": [
    "read_input=outdir+\"Analyses/\"+\"Current_lesion_vs_ROI_list.txt\"\n",
    "output_directory=outdir+\"Analyses/\"\n",
    "\n",
    "call_connectome(read_input=read_input, output_directory=output_directory, numWorkers=20)"
   ]
  },
  {
   "cell_type": "code",
   "execution_count": null,
   "metadata": {
    "code_folding": [
     0
    ],
    "collapsed": true
   },
   "outputs": [],
   "source": [
    "# Load up the results and check the data (note you only want the first couple of columns, etc...)\n",
    "ROI_lesion_results_file=hdf.loadmat(outdir+\"Analyses/matrix_corrMx_AvgR.mat\")\n",
    "ROI_lesion_results_Tfile=hdf.loadmat(outdir+\"Analyses/matrix_corrMx_T.mat\")\n",
    "\n",
    "plt.imshow(ROI_lesion_results_file['X'], interpolation='nearest')\n",
    "plt.show()"
   ]
  },
  {
   "cell_type": "code",
   "execution_count": null,
   "metadata": {
    "code_folding": [
     0
    ],
    "collapsed": true
   },
   "outputs": [],
   "source": [
    "# Show me the correlation from the ROIs to the subjects's lesions. This is just a rough example, for a more complete version, use the ROI_Binary_Predictor Notebook\n",
    "\n",
    "from scipy import stats\n",
    "\n",
    "# Show me the correlation from the ROIs to the subjects's lesions:\n",
    "\n",
    "ROI_to_lesion_corr=ROI_lesion_results_file['X'][0,len(list_of_ROIs):]\n",
    "ROI_to_lesion_corr2=ROI_lesion_results_file['X'][1,len(list_of_ROIs):]\n",
    "\n",
    "ROI_to_lesion_T=ROI_lesion_results_Tfile['X'][0,len(list_of_ROIs):]\n",
    "ROI_to_lesion_T2=ROI_lesion_results_Tfile['X'][1,len(list_of_ROIs):]\n",
    "\n",
    "# plt.boxplot([ROI_to_lesion_corr, ROI_to_lesion_corr2])\n",
    "# plt.boxplot([ROI_to_lesion_T, ROI_to_lesion_T2])\n",
    "\n",
    "plt.subplot(1, 2, 1)\n",
    "plt.boxplot([ROI_to_lesion_corr, ROI_to_lesion_corr2])\n",
    "plt.subplot(1, 2, 2)\n",
    "plt.boxplot([ROI_to_lesion_T, ROI_to_lesion_T2])\n",
    "plt.show()"
   ]
  }
 ],
 "metadata": {
  "kernelspec": {
   "display_name": "nimlab-python2-kernel",
   "language": "python",
   "name": "nimlab-python2-kernel"
  },
  "language_info": {
   "codemirror_mode": {
    "name": "ipython",
    "version": 2
   },
   "file_extension": ".py",
   "mimetype": "text/x-python",
   "name": "python",
   "nbconvert_exporter": "python",
   "pygments_lexer": "ipython2",
   "version": "2.7.12"
  },
  "varInspector": {
   "cols": {
    "lenName": 16,
    "lenType": 16,
    "lenVar": 40
   },
   "kernels_config": {
    "python": {
     "delete_cmd_postfix": "",
     "delete_cmd_prefix": "del ",
     "library": "var_list.py",
     "varRefreshCmd": "print(var_dic_list())"
    },
    "r": {
     "delete_cmd_postfix": ") ",
     "delete_cmd_prefix": "rm(",
     "library": "var_list.r",
     "varRefreshCmd": "cat(var_dic_list()) "
    }
   },
   "types_to_exclude": [
    "module",
    "function",
    "builtin_function_or_method",
    "instance",
    "_Feature"
   ],
   "window_display": false
  }
 },
 "nbformat": 4,
 "nbformat_minor": 2
}
